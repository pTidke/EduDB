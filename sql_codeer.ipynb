{
 "cells": [
  {
   "cell_type": "code",
   "execution_count": 2,
   "metadata": {},
   "outputs": [
    {
     "ename": "",
     "evalue": "",
     "output_type": "error",
     "traceback": [
      "\u001b[1;31mThe Kernel crashed while executing code in the current cell or a previous cell. \n",
      "\u001b[1;31mPlease review the code in the cell(s) to identify a possible cause of the failure. \n",
      "\u001b[1;31mClick <a href='https://aka.ms/vscodeJupyterKernelCrash'>here</a> for more info. \n",
      "\u001b[1;31mView Jupyter <a href='command:jupyter.viewOutput'>log</a> for further details."
     ]
    }
   ],
   "source": [
    "import mysql.connector\n",
    "from tkinter import Tk, Label, Text, Button, Scrollbar, VERTICAL, RIGHT, Y, END\n",
    "from tabulate import tabulate\n",
    "\n",
    "\n",
    "def run_sql_query():\n",
    "    \"\"\"\n",
    "    Executes the SQL query entered in the input field and displays the output in the result area.\n",
    "    \"\"\"\n",
    "    query = input_text.get(\"1.0\", END).strip(\n",
    "    )  # Get SQL query from input field\n",
    "    result_text.delete(\"1.0\", END)  # Clear the result area\n",
    "\n",
    "    try:\n",
    "        cursor.execute(query)  # Execute SQL query\n",
    "        if query.lower().startswith(\"select\"):  # Display results only for SELECT queries\n",
    "            rows = cursor.fetchall()\n",
    "            headers = [description[0] for description in cursor.description]\n",
    "            result_table = tabulate(rows, headers=headers, tablefmt=\"grid\")\n",
    "            # Display the result in tabular format\n",
    "            result_text.insert(\"1.0\", result_table)\n",
    "        else:\n",
    "            connection.commit()  # Commit changes for non-SELECT queries\n",
    "            result_text.insert(\"1.0\", \"Query executed successfully.\")\n",
    "    except Exception as e:\n",
    "        result_text.insert(\"1.0\", f\"Error: {str(e)}\")  # Display errors if any\n",
    "\n",
    "\n",
    "# Create SQLite in-memory database (you can replace this with any database connection)\n",
    "# MySQL connection\n",
    "connection = mysql.connector.connect(\n",
    "    host='pokedex.coozqw8u3amu.us-east-1.rds.amazonaws.com',\n",
    "    user='admin',\n",
    "    password='shadowclone'\n",
    ")\n",
    "cursor = connection.cursor()\n",
    "\n",
    "connection.commit()\n",
    "\n",
    "# Create Tkinter GUI\n",
    "rootx = Tk()\n",
    "rootx.title(\"SQL Code Runner\")\n",
    "rootx.geometry(\"1200x800\")\n",
    "\n",
    "# Input label\n",
    "input_label = Label(rootx, text=\"Enter SQL Query:\", font=(\"Aptos\", 12))\n",
    "input_label.pack(pady=5)\n",
    "\n",
    "# Input text area\n",
    "input_text = Text(rootx, wrap=\"none\", height=10, width=80)\n",
    "input_text.pack(padx=5, pady=5)\n",
    "\n",
    "# Run SQL button\n",
    "run_button = Button(rootx, text=\"Run SQL\",\n",
    "                    command=run_sql_query, font=(\"Aptos\", 12))\n",
    "run_button.pack(pady=5)\n",
    "\n",
    "# Result label\n",
    "result_label = Label(rootx, text=\"Result:\", font=(\"Aptos\", 12))\n",
    "result_label.pack(pady=5)\n",
    "\n",
    "# Result text area with scrollbar\n",
    "result_text = Text(rootx, wrap=\"none\", height=20, width=120)\n",
    "result_text.pack(padx=10, pady=5, side=\"left\", fill=\"both\", expand=True)\n",
    "\n",
    "result_scrollbar = Scrollbar(rootx, orient=VERTICAL, command=result_text.yview)\n",
    "result_scrollbar.pack(side=RIGHT, fill=Y)\n",
    "result_text.configure(yscrollcommand=result_scrollbar.set)\n",
    "\n",
    "# Start Tkinter event loop\n",
    "rootx.mainloop()"
   ]
  }
 ],
 "metadata": {
  "kernelspec": {
   "display_name": "Python 3",
   "language": "python",
   "name": "python3"
  },
  "language_info": {
   "codemirror_mode": {
    "name": "ipython",
    "version": 3
   },
   "file_extension": ".py",
   "mimetype": "text/x-python",
   "name": "python",
   "nbconvert_exporter": "python",
   "pygments_lexer": "ipython3",
   "version": "3.9.21"
  }
 },
 "nbformat": 4,
 "nbformat_minor": 2
}
